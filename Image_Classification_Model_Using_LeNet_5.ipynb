{
  "nbformat": 4,
  "nbformat_minor": 0,
  "metadata": {
    "colab": {
      "provenance": []
    },
    "kernelspec": {
      "name": "python3",
      "display_name": "Python 3"
    },
    "language_info": {
      "name": "python"
    }
  },
  "cells": [
    {
      "cell_type": "code",
      "execution_count": 11,
      "metadata": {
        "id": "2sgkOJTXfGMT"
      },
      "outputs": [],
      "source": [
        "# Import Libraires\n",
        "import tensorflow as tf\n",
        "import matplotlib.pyplot as plt"
      ]
    },
    {
      "cell_type": "code",
      "source": [
        "# Building the model\n",
        "batch_size=128          # We can adjust with different values such as, 32,64,128,256 etc.., Here we assigned 128 it means it will process the 128 images at once.\n",
        "nb_classes=10           # Here, we assigned 10 number of classes 0 to 9.\n",
        "\n",
        "# Dimension of input image (28x28 pixel)\n",
        "image_rows,image_columns=28,28              # Here, we assigned the (28 x 28 pixel) for the input image.\n",
        "\n",
        "# Load the data and split it into training and testing\n",
        "(X_train,y_train),(X_test,y_test)=tf.keras.datasets.mnist.load_data()   # mnist means it is large database for the handwritten digit tasks.\n",
        "                                                                              # It used to train & evaluate the image classification tasks.\n",
        "\n",
        "# Reshaping the images into 4-D tensor (N images, 28 rows, 28 columns, 1 channel) - ( 28 x 28 x 1 = Grey Scale Image)\n",
        "\n",
        "# Rescale the pixels ranges from [0,255] to [0,1]\n",
        "X_train=X_train.reshape(X_train.shape[0],image_rows,image_columns,1)\n",
        "X_test=X_test.reshape(X_test.shape[0],image_rows,image_columns,1)\n",
        "\n",
        "# Converting it into Datatype floating\n",
        "X_train=X_train.astype(\"float32\")\n",
        "X_test=X_test.astype(\"float32\")\n",
        "\n",
        "# Normalizing the values\n",
        "X_train/=255\n",
        "X_test/=255\n",
        "\n",
        "# Printing the results\n",
        "print(\"X_train shape:\",X_train.shape)\n",
        "print(X_train.shape[0],\"training samples\")\n",
        "print(X_test.shape[0],\"test samples\")\n",
        "\n",
        "# Converting digit lable (0-9) in one-hot encoded binary vectors.\n",
        "# These are corresponded to the Training/Testing labels at output of the net.\n",
        "Y_train=tf.keras.utils.to_categorical(y_train,nb_classes)\n",
        "Y_test=tf.keras.utils.to_categorical(y_test,nb_classes)       # COnverted the categorical data into classes\n",
        "print(\"One-Hot Encoding:{}\".format(Y_train[0,:]))"
      ],
      "metadata": {
        "colab": {
          "base_uri": "https://localhost:8080/"
        },
        "id": "DFFTSrmygODW",
        "outputId": "8ca8885d-4c1d-4572-c3b0-806189e5705d"
      },
      "execution_count": 12,
      "outputs": [
        {
          "output_type": "stream",
          "name": "stdout",
          "text": [
            "X_train shape: (60000, 28, 28, 1)\n",
            "60000 training samples\n",
            "10000 test samples\n",
            "One-Hot Encoding:[0. 0. 0. 0. 0. 1. 0. 0. 0. 0.]\n"
          ]
        }
      ]
    },
    {
      "cell_type": "markdown",
      "source": [
        "- By closely oberving on the above results we have 60,000 images for training.and 10,000 images for testing."
      ],
      "metadata": {
        "id": "-_dyIVaOpJx3"
      }
    },
    {
      "cell_type": "code",
      "source": [
        "for i in range(9):\n",
        "  plt.subplot(3,3,i+1)\n",
        "  plt.imshow(X_train[i,:,:,0],cmap=\"gray\")\n",
        "  plt.axis(\"off\")"
      ],
      "metadata": {
        "colab": {
          "base_uri": "https://localhost:8080/",
          "height": 406
        },
        "id": "2vhOH69npDkd",
        "outputId": "926a1062-ebcf-4f6b-ff6f-857ab48ecf09"
      },
      "execution_count": 13,
      "outputs": [
        {
          "output_type": "display_data",
          "data": {
            "text/plain": [
              "<Figure size 640x480 with 9 Axes>"
            ],
            "image/png": "[encoded data removed]"
          },
          "metadata": {}
        }
      ]
    },
    {
      "cell_type": "markdown",
      "source": [
        "- In the above we plotted the image for checking the some random images in training data."
      ],
      "metadata": {
        "id": "33U4yCHzqMjb"
      }
    },
    {
      "cell_type": "markdown",
      "source": [
        "# **Building the Convolution Neural Network Model**\n",
        "\n",
        "- In neural network keras library provides the two main ways to build the model one is sequential and function API.\n",
        "\n",
        "- Here, we will proceed with Sequential model."
      ],
      "metadata": {
        "id": "e2CrPk19qwXW"
      }
    },
    {
      "cell_type": "code",
      "source": [
        "# Building the Sequential Model\n",
        "model=tf.keras.Sequential()\n",
        "\n",
        "# 2-D Convolution (Number_Filters, Kernel_Size, Input_Shape=(number_channels,img_col),padding,activation)\n",
        "model.add(tf.keras.layers.Conv2D(6,(5,5),input_shape=[image_rows,image_columns,1],padding=\"same\",activation=\"tanh\"))\n",
        "model.add(tf.keras.layers.AveragePooling2D(pool_size=(2,2)))        # Applying the Average 2dimensional pooling\n",
        "model.add(tf.keras.layers.Conv2D(16,(5,5),padding=\"valid\",activation=\"tanh\"))\n",
        "model.add(tf.keras.layers.AveragePooling2D(pool_size=(2,2)))\n",
        "model.add(tf.keras.layers.Flatten())\n",
        "model.add(tf.keras.layers.Dense(120,activation=\"tanh\"))\n",
        "model.add(tf.keras.layers.Dense(84,activation=\"tanh\"))\n",
        "model.add(tf.keras.layers.Dense(10,activation=\"softmax\"))  # For multiclass classification we can use the \"SOFTMAX\" activation function\n"
      ],
      "metadata": {
        "id": "WCS9fforptuw"
      },
      "execution_count": 14,
      "outputs": []
    },
    {
      "cell_type": "markdown",
      "source": [
        "Notes:\n",
        "\n",
        "- Applying the 2-Dimensional convolution on the model.\n",
        "\n",
        "- 5 x 5 filter size,applying 6 filters.\n",
        "\n",
        "- Padding= same means, We gave the image size is 28 x 28 after applying convolution the same size if we want, we can give the padding =same.\n",
        "\n",
        "- Padding=valid, It means We gave the image size is 28 x 28 after applying convolution, we do not want to get the same size we can give the padding=valid.\n"
      ],
      "metadata": {
        "id": "y-ZFCzMpyOPo"
      }
    },
    {
      "cell_type": "code",
      "source": [
        "# Compiling the model\n",
        "model.compile(loss=\"categorical_crossentropy\",optimizer=\"adadelta\",metrics=[\"accuracy\"])"
      ],
      "metadata": {
        "id": "OEX0AH2azO5S"
      },
      "execution_count": 15,
      "outputs": []
    },
    {
      "cell_type": "code",
      "source": [
        "# Adjusting the no.of epochs is 30\n",
        "nb_epochs=30\n",
        "\n",
        "# Fitting the model on Training & Testing\n",
        "model.fit(X_train,Y_train,batch_size=batch_size,epochs=nb_epochs,verbose=1,validation_data=(X_test,Y_test))\n",
        "\n",
        "# Evaluating the model\n",
        "score=model.evaluate(X_test,Y_test,verbose=0)\n",
        "print(\"Test Score\",score[0])\n",
        "print(\"Test Accuracy\",score[1])\n"
      ],
      "metadata": {
        "colab": {
          "base_uri": "https://localhost:8080/"
        },
        "id": "rltQ_PlW03LV",
        "outputId": "a9a840da-756d-4545-e352-256a6cb0ecd8"
      },
      "execution_count": 16,
      "outputs": [
        {
          "output_type": "stream",
          "name": "stdout",
          "text": [
            "Epoch 1/30\n",
            "469/469 [==============================] - 35s 73ms/step - loss: 2.2808 - accuracy: 0.1062 - val_loss: 2.2561 - val_accuracy: 0.1699\n",
            "Epoch 2/30\n",
            "469/469 [==============================] - 37s 78ms/step - loss: 2.2280 - accuracy: 0.2325 - val_loss: 2.1998 - val_accuracy: 0.2939\n",
            "Epoch 3/30\n",
            "469/469 [==============================] - 34s 72ms/step - loss: 2.1715 - accuracy: 0.3355 - val_loss: 2.1397 - val_accuracy: 0.3822\n",
            "Epoch 4/30\n",
            "469/469 [==============================] - 42s 89ms/step - loss: 2.1106 - accuracy: 0.4303 - val_loss: 2.0748 - val_accuracy: 0.4883\n",
            "Epoch 5/30\n",
            "469/469 [==============================] - 40s 86ms/step - loss: 2.0449 - accuracy: 0.5265 - val_loss: 2.0048 - val_accuracy: 0.5706\n",
            "Epoch 6/30\n",
            "469/469 [==============================] - 35s 74ms/step - loss: 1.9735 - accuracy: 0.5900 - val_loss: 1.9285 - val_accuracy: 0.6225\n",
            "Epoch 7/30\n",
            "469/469 [==============================] - 33s 71ms/step - loss: 1.8959 - accuracy: 0.6304 - val_loss: 1.8462 - val_accuracy: 0.6521\n",
            "Epoch 8/30\n",
            "469/469 [==============================] - 35s 74ms/step - loss: 1.8127 - accuracy: 0.6576 - val_loss: 1.7587 - val_accuracy: 0.6750\n",
            "Epoch 9/30\n",
            "469/469 [==============================] - 33s 71ms/step - loss: 1.7253 - accuracy: 0.6748 - val_loss: 1.6684 - val_accuracy: 0.6869\n",
            "Epoch 10/30\n",
            "469/469 [==============================] - 33s 71ms/step - loss: 1.6360 - accuracy: 0.6877 - val_loss: 1.5772 - val_accuracy: 0.6982\n",
            "Epoch 11/30\n",
            "469/469 [==============================] - 34s 72ms/step - loss: 1.5468 - accuracy: 0.6976 - val_loss: 1.4875 - val_accuracy: 0.7084\n",
            "Epoch 12/30\n",
            "469/469 [==============================] - 33s 71ms/step - loss: 1.4601 - accuracy: 0.7060 - val_loss: 1.4016 - val_accuracy: 0.7196\n",
            "Epoch 13/30\n",
            "469/469 [==============================] - 34s 72ms/step - loss: 1.3781 - accuracy: 0.7148 - val_loss: 1.3216 - val_accuracy: 0.7289\n",
            "Epoch 14/30\n",
            "469/469 [==============================] - 33s 71ms/step - loss: 1.3019 - accuracy: 0.7229 - val_loss: 1.2476 - val_accuracy: 0.7377\n",
            "Epoch 15/30\n",
            "469/469 [==============================] - 34s 73ms/step - loss: 1.2317 - accuracy: 0.7316 - val_loss: 1.1801 - val_accuracy: 0.7446\n",
            "Epoch 16/30\n",
            "469/469 [==============================] - 34s 72ms/step - loss: 1.1681 - accuracy: 0.7393 - val_loss: 1.1194 - val_accuracy: 0.7531\n",
            "Epoch 17/30\n",
            "469/469 [==============================] - 33s 70ms/step - loss: 1.1109 - accuracy: 0.7476 - val_loss: 1.0648 - val_accuracy: 0.7634\n",
            "Epoch 18/30\n",
            "469/469 [==============================] - 34s 73ms/step - loss: 1.0592 - accuracy: 0.7561 - val_loss: 1.0156 - val_accuracy: 0.7709\n",
            "Epoch 19/30\n",
            "469/469 [==============================] - 33s 70ms/step - loss: 1.0129 - accuracy: 0.7631 - val_loss: 0.9715 - val_accuracy: 0.7793\n",
            "Epoch 20/30\n",
            "469/469 [==============================] - 34s 72ms/step - loss: 0.9711 - accuracy: 0.7707 - val_loss: 0.9317 - val_accuracy: 0.7862\n",
            "Epoch 21/30\n",
            "469/469 [==============================] - 33s 70ms/step - loss: 0.9334 - accuracy: 0.7771 - val_loss: 0.8959 - val_accuracy: 0.7919\n",
            "Epoch 22/30\n",
            "469/469 [==============================] - 34s 72ms/step - loss: 0.8993 - accuracy: 0.7839 - val_loss: 0.8635 - val_accuracy: 0.7978\n",
            "Epoch 23/30\n",
            "469/469 [==============================] - 33s 71ms/step - loss: 0.8685 - accuracy: 0.7901 - val_loss: 0.8342 - val_accuracy: 0.8044\n",
            "Epoch 24/30\n",
            "469/469 [==============================] - 34s 72ms/step - loss: 0.8405 - accuracy: 0.7951 - val_loss: 0.8074 - val_accuracy: 0.8094\n",
            "Epoch 25/30\n",
            "469/469 [==============================] - 34s 72ms/step - loss: 0.8150 - accuracy: 0.8005 - val_loss: 0.7831 - val_accuracy: 0.8135\n",
            "Epoch 26/30\n",
            "469/469 [==============================] - 33s 70ms/step - loss: 0.7917 - accuracy: 0.8045 - val_loss: 0.7610 - val_accuracy: 0.8172\n",
            "Epoch 27/30\n",
            "469/469 [==============================] - 35s 74ms/step - loss: 0.7704 - accuracy: 0.8090 - val_loss: 0.7406 - val_accuracy: 0.8229\n",
            "Epoch 28/30\n",
            "469/469 [==============================] - 33s 70ms/step - loss: 0.7508 - accuracy: 0.8125 - val_loss: 0.7218 - val_accuracy: 0.8266\n",
            "Epoch 29/30\n",
            "469/469 [==============================] - 34s 74ms/step - loss: 0.7326 - accuracy: 0.8167 - val_loss: 0.7044 - val_accuracy: 0.8302\n",
            "Epoch 30/30\n",
            "469/469 [==============================] - 34s 72ms/step - loss: 0.7158 - accuracy: 0.8205 - val_loss: 0.6883 - val_accuracy: 0.8340\n",
            "Test Score 0.688284158706665\n",
            "Test Accuracy 0.8339999914169312\n"
          ]
        }
      ]
    },
    {
      "cell_type": "markdown",
      "source": [
        "## Predicting the model"
      ],
      "metadata": {
        "id": "BeinnlYsjrkL"
      }
    },
    {
      "cell_type": "code",
      "source": [
        "import numpy as np\n",
        "res=np.argmax(model.predict(X_test[:9]),axis=-1)\n",
        "plt.figure(figsize=(10,10))\n",
        "\n",
        "for i in range(9):\n",
        "  plt.subplot(3,3,i+1)\n",
        "  plt.imshow(X_test[i,:,:,0],cmap=\"gray\")\n",
        "  plt.gca().get_xaxis().set_ticks([])\n",
        "  plt.gca().get_yaxis().set_ticks([])\n",
        "  plt.ylabel(\"prediction={}\".format(res[i]),fontsize=18)"
      ],
      "metadata": {
        "colab": {
          "base_uri": "https://localhost:8080/",
          "height": 825
        },
        "id": "8QgX4oB72LwP",
        "outputId": "b795aec8-93aa-4a45-be8d-eeab45629e94"
      },
      "execution_count": 17,
      "outputs": [
        {
          "output_type": "stream",
          "name": "stdout",
          "text": [
            "1/1 [==============================] - 0s 82ms/step\n"
          ]
        },
        {
          "output_type": "display_data",
          "data": {
            "text/plain": [
              "<Figure size 1000x1000 with 9 Axes>"
            ],
            "image/png": "[encoded data removed]"
          },
          "metadata": {}
        }
      ]
    },
    {
      "cell_type": "markdown",
      "source": [
        "- In the above we predicted the model by taking some random 9 images what we have given to the model and it will predicting from testing dataset.\n",
        "\n",
        "- In prediction result we can able to see that there is some unaccurate results we can rectify that unaccurate results by using the following methods.\n",
        "\n",
        "- We can fine tune the model by experimenting with different optimizers like adam.\n",
        "\n",
        "- We change it into more epochs.\n",
        "\n",
        "- Incresing the bactch size\n",
        "\n",
        "- Changing the activation fucntion.\n",
        "\n",
        "- Finally, we will get the accurate results."
      ],
      "metadata": {
        "id": "2ZDPJjCVjk7E"
      }
    }
  ]
}