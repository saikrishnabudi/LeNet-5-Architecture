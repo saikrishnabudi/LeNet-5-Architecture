{
  "nbformat": 4,
  "nbformat_minor": 0,
  "metadata": {
    "colab": {
      "provenance": []
    },
    "kernelspec": {
      "name": "python3",
      "display_name": "Python 3"
    },
    "language_info": {
      "name": "python"
    }
  },
  "cells": [
    {
      "cell_type": "code",
      "execution_count": 1,
      "metadata": {
        "id": "2sgkOJTXfGMT"
      },
      "outputs": [],
      "source": [
        "# Import Libraires\n",
        "import tensorflow as tf\n",
        "import matplotlib.pyplot as plt"
      ]
    },
    {
      "cell_type": "code",
      "source": [
        "# Building the model\n",
        "batch_size=256          # We can adjust with different values such as, 32,64,128,256 etc.., Here we assigned 128 it means it will process the 128 images at once.\n",
        "nb_classes=10           # Here, we assigned 10 number of classes 0 to 9.\n",
        "\n",
        "# Dimension of input image (28x28 pixel)\n",
        "image_rows,image_columns=28,28              # Here, we assigned the (28 x 28 pixel) for the input image.\n",
        "\n",
        "# Load the data and split it into training and testing\n",
        "(X_train,y_train),(X_test,y_test)=tf.keras.datasets.mnist.load_data()   # mnist means it is large database for the handwritten digit tasks.\n",
        "                                                                              # It used to train & evaluate the image classification tasks.\n",
        "\n",
        "# Reshaping the images into 4-D tensor (N images, 28 rows, 28 columns, 1 channel) - ( 28 x 28 x 1 = Grey Scale Image)\n",
        "\n",
        "# Rescale the pixels ranges from [0,255] to [0,1]\n",
        "X_train=X_train.reshape(X_train.shape[0],image_rows,image_columns,1)\n",
        "X_test=X_test.reshape(X_test.shape[0],image_rows,image_columns,1)\n",
        "\n",
        "# Converting it into Datatype floating\n",
        "X_train=X_train.astype(\"float32\")\n",
        "X_test=X_test.astype(\"float32\")\n",
        "\n",
        "# Normalizing the values\n",
        "X_train/=255\n",
        "X_test/=255\n",
        "\n",
        "# Printing the results\n",
        "print(\"X_train shape:\",X_train.shape)\n",
        "print(X_train.shape[0],\"training samples\")\n",
        "print(X_test.shape[0],\"test samples\")\n",
        "\n",
        "# Converting digit lable (0-9) in one-hot encoded binary vectors.\n",
        "# These are corresponded to the Training/Testing labels at output of the net.\n",
        "Y_train=tf.keras.utils.to_categorical(y_train,nb_classes)\n",
        "Y_test=tf.keras.utils.to_categorical(y_test,nb_classes)       # COnverted the categorical data into classes\n",
        "print(\"One-Hot Encoding:{}\".format(Y_train[0,:]))"
      ],
      "metadata": {
        "colab": {
          "base_uri": "https://localhost:8080/"
        },
        "id": "DFFTSrmygODW",
        "outputId": "cfb5c1ff-b31b-48c6-f51d-51a86a38e394"
      },
      "execution_count": 2,
      "outputs": [
        {
          "output_type": "stream",
          "name": "stdout",
          "text": [
            "Downloading data from https://storage.googleapis.com/tensorflow/tf-keras-datasets/mnist.npz\n",
            "11490434/11490434 [==============================] - 0s 0us/step\n",
            "X_train shape: (60000, 28, 28, 1)\n",
            "60000 training samples\n",
            "10000 test samples\n",
            "One-Hot Encoding:[0. 0. 0. 0. 0. 1. 0. 0. 0. 0.]\n"
          ]
        }
      ]
    },
    {
      "cell_type": "markdown",
      "source": [
        "- By closely oberving on the above results we have 60,000 images for training.and 10,000 images for testing."
      ],
      "metadata": {
        "id": "-_dyIVaOpJx3"
      }
    },
    {
      "cell_type": "code",
      "source": [
        "for i in range(9):\n",
        "  plt.subplot(3,3,i+1)\n",
        "  plt.imshow(X_train[i,:,:,0],cmap=\"gray\")\n",
        "  plt.axis(\"off\")"
      ],
      "metadata": {
        "colab": {
          "base_uri": "https://localhost:8080/",
          "height": 406
        },
        "id": "2vhOH69npDkd",
        "outputId": "1da7f248-5943-4fac-c571-bb5bb604e51c"
      },
      "execution_count": 3,
      "outputs": [
        {
          "output_type": "display_data",
          "data": {
            "text/plain": [
              "<Figure size 640x480 with 9 Axes>"
            ],
            "image/png": "[encoded data removed]"
          },
          "metadata": {}
        }
      ]
    },
    {
      "cell_type": "markdown",
      "source": [
        "- In the above we plotted the image for checking the some random images in training data."
      ],
      "metadata": {
        "id": "33U4yCHzqMjb"
      }
    },
    {
      "cell_type": "markdown",
      "source": [
        "# **Building the Convolution Neural Network Model**\n",
        "\n",
        "- In neural network keras library provides the two main ways to build the model one is sequential and function API.\n",
        "\n",
        "- Here, we will proceed with Sequential model."
      ],
      "metadata": {
        "id": "e2CrPk19qwXW"
      }
    },
    {
      "cell_type": "code",
      "source": [
        "# Building the Sequential Model\n",
        "model=tf.keras.Sequential()\n",
        "\n",
        "# 2-D Convolution (Number_Filters, Kernel_Size, Input_Shape=(number_channels,img_col),padding,activation)\n",
        "model.add(tf.keras.layers.Conv2D(6,(5,5),input_shape=[image_rows,image_columns,1],padding=\"same\",activation=\"relu\"))\n",
        "model.add(tf.keras.layers.AveragePooling2D(pool_size=(2,2)))        # Applying the Average 2dimensional pooling\n",
        "model.add(tf.keras.layers.Conv2D(16,(5,5),padding=\"valid\",activation=\"relu\"))\n",
        "model.add(tf.keras.layers.AveragePooling2D(pool_size=(2,2)))\n",
        "model.add(tf.keras.layers.Flatten())\n",
        "model.add(tf.keras.layers.Dense(120,activation=\"relu\"))\n",
        "model.add(tf.keras.layers.Dense(84,activation=\"relu\"))\n",
        "model.add(tf.keras.layers.Dense(10,activation=\"softmax\"))  # For multiclass classification we can use the \"SOFTMAX\" activation function\n"
      ],
      "metadata": {
        "id": "WCS9fforptuw"
      },
      "execution_count": 4,
      "outputs": []
    },
    {
      "cell_type": "markdown",
      "source": [
        "Notes:\n",
        "\n",
        "- Applying the 2-Dimensional convolution on the model.\n",
        "\n",
        "- 5 x 5 filter size,applying 6 filters.\n",
        "\n",
        "- Padding= same means, We gave the image size is 28 x 28 after applying convolution the same size if we want, we can give the padding =same.\n",
        "\n",
        "- Padding=valid, It means We gave the image size is 28 x 28 after applying convolution, we do not want to get the same size we can give the padding=valid.\n"
      ],
      "metadata": {
        "id": "y-ZFCzMpyOPo"
      }
    },
    {
      "cell_type": "code",
      "source": [
        "# Compiling the model\n",
        "model.compile(loss=\"categorical_crossentropy\",optimizer=\"adam\",metrics=[\"accuracy\"])"
      ],
      "metadata": {
        "id": "OEX0AH2azO5S"
      },
      "execution_count": 5,
      "outputs": []
    },
    {
      "cell_type": "code",
      "source": [
        "# Adjusting the no.of epochs is 30\n",
        "nb_epochs=50\n",
        "\n",
        "# Fitting the model on Training & Testing\n",
        "model.fit(X_train,Y_train,batch_size=batch_size,epochs=nb_epochs,verbose=1,validation_data=(X_test,Y_test))\n",
        "\n",
        "# Evaluating the model\n",
        "score=model.evaluate(X_test,Y_test,verbose=0)\n",
        "print(\"Test Score\",score[0])\n",
        "print(\"Test Accuracy\",score[1])\n"
      ],
      "metadata": {
        "colab": {
          "base_uri": "https://localhost:8080/"
        },
        "id": "rltQ_PlW03LV",
        "outputId": "1845f91b-1383-4809-dd85-498b575d9586"
      },
      "execution_count": 6,
      "outputs": [
        {
          "output_type": "stream",
          "name": "stdout",
          "text": [
            "Epoch 1/50\n",
            "235/235 [==============================] - 40s 165ms/step - loss: 0.4886 - accuracy: 0.8623 - val_loss: 0.1608 - val_accuracy: 0.9504\n",
            "Epoch 2/50\n",
            "235/235 [==============================] - 30s 127ms/step - loss: 0.1356 - accuracy: 0.9596 - val_loss: 0.0911 - val_accuracy: 0.9697\n",
            "Epoch 3/50\n",
            "235/235 [==============================] - 30s 127ms/step - loss: 0.0924 - accuracy: 0.9724 - val_loss: 0.0662 - val_accuracy: 0.9776\n",
            "Epoch 4/50\n",
            "235/235 [==============================] - 30s 126ms/step - loss: 0.0718 - accuracy: 0.9778 - val_loss: 0.0560 - val_accuracy: 0.9831\n",
            "Epoch 5/50\n",
            "235/235 [==============================] - 31s 131ms/step - loss: 0.0596 - accuracy: 0.9819 - val_loss: 0.0565 - val_accuracy: 0.9833\n",
            "Epoch 6/50\n",
            "235/235 [==============================] - 29s 125ms/step - loss: 0.0522 - accuracy: 0.9840 - val_loss: 0.0443 - val_accuracy: 0.9865\n",
            "Epoch 7/50\n",
            "235/235 [==============================] - 29s 125ms/step - loss: 0.0461 - accuracy: 0.9858 - val_loss: 0.0451 - val_accuracy: 0.9848\n",
            "Epoch 8/50\n",
            "235/235 [==============================] - 30s 126ms/step - loss: 0.0405 - accuracy: 0.9875 - val_loss: 0.0426 - val_accuracy: 0.9870\n",
            "Epoch 9/50\n",
            "235/235 [==============================] - 28s 121ms/step - loss: 0.0358 - accuracy: 0.9886 - val_loss: 0.0373 - val_accuracy: 0.9875\n",
            "Epoch 10/50\n",
            "235/235 [==============================] - 28s 121ms/step - loss: 0.0333 - accuracy: 0.9894 - val_loss: 0.0395 - val_accuracy: 0.9877\n",
            "Epoch 11/50\n",
            "235/235 [==============================] - 28s 121ms/step - loss: 0.0300 - accuracy: 0.9907 - val_loss: 0.0359 - val_accuracy: 0.9889\n",
            "Epoch 12/50\n",
            "235/235 [==============================] - 29s 125ms/step - loss: 0.0267 - accuracy: 0.9917 - val_loss: 0.0375 - val_accuracy: 0.9882\n",
            "Epoch 13/50\n",
            "235/235 [==============================] - 30s 126ms/step - loss: 0.0260 - accuracy: 0.9919 - val_loss: 0.0318 - val_accuracy: 0.9894\n",
            "Epoch 14/50\n",
            "235/235 [==============================] - 28s 120ms/step - loss: 0.0230 - accuracy: 0.9929 - val_loss: 0.0379 - val_accuracy: 0.9885\n",
            "Epoch 15/50\n",
            "235/235 [==============================] - 28s 121ms/step - loss: 0.0209 - accuracy: 0.9932 - val_loss: 0.0384 - val_accuracy: 0.9885\n",
            "Epoch 16/50\n",
            "235/235 [==============================] - 28s 120ms/step - loss: 0.0205 - accuracy: 0.9933 - val_loss: 0.0326 - val_accuracy: 0.9900\n",
            "Epoch 17/50\n",
            "235/235 [==============================] - 29s 123ms/step - loss: 0.0177 - accuracy: 0.9942 - val_loss: 0.0360 - val_accuracy: 0.9899\n",
            "Epoch 18/50\n",
            "235/235 [==============================] - 30s 126ms/step - loss: 0.0159 - accuracy: 0.9952 - val_loss: 0.0362 - val_accuracy: 0.9888\n",
            "Epoch 19/50\n",
            "235/235 [==============================] - 29s 124ms/step - loss: 0.0144 - accuracy: 0.9956 - val_loss: 0.0432 - val_accuracy: 0.9881\n",
            "Epoch 20/50\n",
            "235/235 [==============================] - 28s 121ms/step - loss: 0.0133 - accuracy: 0.9957 - val_loss: 0.0459 - val_accuracy: 0.9877\n",
            "Epoch 21/50\n",
            "235/235 [==============================] - 29s 125ms/step - loss: 0.0146 - accuracy: 0.9952 - val_loss: 0.0364 - val_accuracy: 0.9889\n",
            "Epoch 22/50\n",
            "235/235 [==============================] - 30s 126ms/step - loss: 0.0122 - accuracy: 0.9962 - val_loss: 0.0388 - val_accuracy: 0.9896\n",
            "Epoch 23/50\n",
            "235/235 [==============================] - 29s 125ms/step - loss: 0.0126 - accuracy: 0.9959 - val_loss: 0.0406 - val_accuracy: 0.9887\n",
            "Epoch 24/50\n",
            "235/235 [==============================] - 28s 121ms/step - loss: 0.0114 - accuracy: 0.9965 - val_loss: 0.0337 - val_accuracy: 0.9897\n",
            "Epoch 25/50\n",
            "235/235 [==============================] - 29s 125ms/step - loss: 0.0105 - accuracy: 0.9963 - val_loss: 0.0351 - val_accuracy: 0.9897\n",
            "Epoch 26/50\n",
            "235/235 [==============================] - 29s 123ms/step - loss: 0.0089 - accuracy: 0.9969 - val_loss: 0.0397 - val_accuracy: 0.9897\n",
            "Epoch 27/50\n",
            "235/235 [==============================] - 28s 121ms/step - loss: 0.0083 - accuracy: 0.9975 - val_loss: 0.0319 - val_accuracy: 0.9906\n",
            "Epoch 28/50\n",
            "235/235 [==============================] - 28s 121ms/step - loss: 0.0082 - accuracy: 0.9970 - val_loss: 0.0446 - val_accuracy: 0.9884\n",
            "Epoch 29/50\n",
            "235/235 [==============================] - 28s 121ms/step - loss: 0.0094 - accuracy: 0.9969 - val_loss: 0.0363 - val_accuracy: 0.9904\n",
            "Epoch 30/50\n",
            "235/235 [==============================] - 29s 125ms/step - loss: 0.0074 - accuracy: 0.9977 - val_loss: 0.0388 - val_accuracy: 0.9891\n",
            "Epoch 31/50\n",
            "235/235 [==============================] - 30s 127ms/step - loss: 0.0055 - accuracy: 0.9982 - val_loss: 0.0413 - val_accuracy: 0.9900\n",
            "Epoch 32/50\n",
            "235/235 [==============================] - 29s 125ms/step - loss: 0.0078 - accuracy: 0.9973 - val_loss: 0.0482 - val_accuracy: 0.9874\n",
            "Epoch 33/50\n",
            "235/235 [==============================] - 29s 125ms/step - loss: 0.0084 - accuracy: 0.9971 - val_loss: 0.0399 - val_accuracy: 0.9906\n",
            "Epoch 34/50\n",
            "235/235 [==============================] - 30s 127ms/step - loss: 0.0059 - accuracy: 0.9979 - val_loss: 0.0472 - val_accuracy: 0.9878\n",
            "Epoch 35/50\n",
            "235/235 [==============================] - 29s 125ms/step - loss: 0.0049 - accuracy: 0.9983 - val_loss: 0.0404 - val_accuracy: 0.9904\n",
            "Epoch 36/50\n",
            "235/235 [==============================] - 29s 125ms/step - loss: 0.0079 - accuracy: 0.9971 - val_loss: 0.0391 - val_accuracy: 0.9893\n",
            "Epoch 37/50\n",
            "235/235 [==============================] - 29s 125ms/step - loss: 0.0047 - accuracy: 0.9982 - val_loss: 0.0427 - val_accuracy: 0.9900\n",
            "Epoch 38/50\n",
            "235/235 [==============================] - 30s 128ms/step - loss: 0.0062 - accuracy: 0.9980 - val_loss: 0.0476 - val_accuracy: 0.9889\n",
            "Epoch 39/50\n",
            "235/235 [==============================] - 29s 125ms/step - loss: 0.0043 - accuracy: 0.9985 - val_loss: 0.0423 - val_accuracy: 0.9893\n",
            "Epoch 40/50\n",
            "235/235 [==============================] - 29s 126ms/step - loss: 0.0045 - accuracy: 0.9986 - val_loss: 0.0361 - val_accuracy: 0.9908\n",
            "Epoch 41/50\n",
            "235/235 [==============================] - 29s 125ms/step - loss: 0.0040 - accuracy: 0.9986 - val_loss: 0.0405 - val_accuracy: 0.9911\n",
            "Epoch 42/50\n",
            "235/235 [==============================] - 30s 126ms/step - loss: 0.0062 - accuracy: 0.9978 - val_loss: 0.0398 - val_accuracy: 0.9903\n",
            "Epoch 43/50\n",
            "235/235 [==============================] - 28s 121ms/step - loss: 0.0041 - accuracy: 0.9986 - val_loss: 0.0436 - val_accuracy: 0.9908\n",
            "Epoch 44/50\n",
            "235/235 [==============================] - 29s 125ms/step - loss: 0.0073 - accuracy: 0.9974 - val_loss: 0.0506 - val_accuracy: 0.9880\n",
            "Epoch 45/50\n",
            "235/235 [==============================] - 29s 125ms/step - loss: 0.0047 - accuracy: 0.9984 - val_loss: 0.0448 - val_accuracy: 0.9888\n",
            "Epoch 46/50\n",
            "235/235 [==============================] - 30s 126ms/step - loss: 0.0028 - accuracy: 0.9991 - val_loss: 0.0465 - val_accuracy: 0.9896\n",
            "Epoch 47/50\n",
            "235/235 [==============================] - 29s 125ms/step - loss: 0.0019 - accuracy: 0.9995 - val_loss: 0.0545 - val_accuracy: 0.9883\n",
            "Epoch 48/50\n",
            "235/235 [==============================] - 29s 125ms/step - loss: 0.0059 - accuracy: 0.9983 - val_loss: 0.0480 - val_accuracy: 0.9892\n",
            "Epoch 49/50\n",
            "235/235 [==============================] - 30s 126ms/step - loss: 0.0041 - accuracy: 0.9987 - val_loss: 0.0421 - val_accuracy: 0.9909\n",
            "Epoch 50/50\n",
            "235/235 [==============================] - 30s 125ms/step - loss: 0.0028 - accuracy: 0.9990 - val_loss: 0.0497 - val_accuracy: 0.9894\n",
            "Test Score 0.049664728343486786\n",
            "Test Accuracy 0.9894000291824341\n"
          ]
        }
      ]
    },
    {
      "cell_type": "markdown",
      "source": [
        "## Predicting the model"
      ],
      "metadata": {
        "id": "BeinnlYsjrkL"
      }
    },
    {
      "cell_type": "code",
      "source": [
        "import numpy as np\n",
        "res=np.argmax(model.predict(X_test[:9]),axis=-1)\n",
        "plt.figure(figsize=(10,10))\n",
        "\n",
        "for i in range(9):\n",
        "  plt.subplot(3,3,i+1)\n",
        "  plt.imshow(X_test[i,:,:,0],cmap=\"gray\")\n",
        "  plt.gca().get_xaxis().set_ticks([])\n",
        "  plt.gca().get_yaxis().set_ticks([])\n",
        "  plt.ylabel(\"prediction={}\".format(res[i]),fontsize=18)"
      ],
      "metadata": {
        "colab": {
          "base_uri": "https://localhost:8080/",
          "height": 825
        },
        "id": "8QgX4oB72LwP",
        "outputId": "80b423b6-1bb1-4439-86c3-92932f417b46"
      },
      "execution_count": 7,
      "outputs": [
        {
          "output_type": "stream",
          "name": "stdout",
          "text": [
            "1/1 [==============================] - 0s 185ms/step\n"
          ]
        },
        {
          "output_type": "display_data",
          "data": {
            "text/plain": [
              "<Figure size 1000x1000 with 9 Axes>"
            ],
            "image/png": "[encoded data removed]"
          },
          "metadata": {}
        }
      ]
    },
    {
      "cell_type": "markdown",
      "source": [
        "- In the above we predicted the model by taking some random 9 images what we have given to the model and it will predicting from testing dataset.\n",
        "\n",
        "- In prediction result we can able to see that there is some unaccurate results we can rectify that unaccurate results by using the following methods.\n",
        "\n",
        "- We can fine tune the model by experimenting with different optimizers like adam.\n",
        "\n",
        "- We change it into more epochs.\n",
        "\n",
        "- Incresing the bactch size\n",
        "\n",
        "- Changing the activation fucntion.\n",
        "\n",
        "- Finally, we will get the accurate results."
      ],
      "metadata": {
        "id": "2ZDPJjCVjk7E"
      }
    }
  ]
}